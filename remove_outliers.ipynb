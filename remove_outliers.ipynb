{
 "cells": [
  {
   "cell_type": "code",
   "execution_count": 1,
   "metadata": {},
   "outputs": [],
   "source": [
    "def removing_outliers(column,frame, count = 0,total_outliers = 0, alpha = 1.5):\n",
    "        \"\"\"\n",
    "        Метод удаления выбросов с помощью межквартильного размаха\n",
    "\n",
    "        Параметры:\n",
    "        - column: Имя столбца, где нужно найти выбросы\n",
    "        - frame: Фрейм, где находится столбец для анализа\n",
    "        - count: Количество рекурсивных циклов проверки \n",
    "        - total_outliers: Общая сумма выбросов, найденных за все циклы проверки\n",
    "        - alpha: Коэфициент при вычислении интервала\n",
    "\n",
    "        Возвращет:\n",
    "        - frame: Обработанный фрейм\n",
    "        - leng: Количесвто выбросов на цикле\n",
    "        - total_outliers: Общее количество выбросов\n",
    "        \"\"\"\n",
    "        # Получим квантиль 25%\n",
    "        q25=np.array(frame[column].describe(percentiles=[.25,.75]).loc['25%'])\n",
    "        # Получим квантиль 75%\n",
    "        q75=np.array(frame[column].describe(percentiles=[.25,.75]).loc['75%'])\n",
    "        # Получим первую границу\n",
    "        first_part=q25-alpha*(q75-q25)\n",
    "        # Получим 2 границу\n",
    "        second_part=q75+alpha*(q75-q25)\n",
    "        # Инициализируем список для индексов, подготовленных к удалению\n",
    "        index_del= []\n",
    "        # Получим все значения, удолитворяющих промежутку\n",
    "        prep_frame = frame[(frame[column] > first_part) & (frame[column] < second_part)]\n",
    "        # Подсчет количсва удаленных выбросов\n",
    "        leng = frame.shape[0] - prep_frame.shape[0]\n",
    "        # Увеление счетчика циклов\n",
    "        count += 1\n",
    "        # Заменим исходную таблицу обработанной\n",
    "        frame = prep_frame.copy()\n",
    "        # Удалим не нужную таблицу\n",
    "        del prep_frame\n",
    "        # Проверим условия выхода\n",
    "        if leng > 0 and count <= 5:\n",
    "            frame,leng,total_outliers = removing_outliers(column,frame, count,total_outliers+leng)\n",
    "        else:\n",
    "            print('Количество строк, выбранных для удаления {}: {}. Количество итераций {}'.format(column,total_outliers,count),end = \"\\n\\n\")\n",
    "        return frame,leng,total_outliers"
   ]
  }
 ],
 "metadata": {
  "kernelspec": {
   "display_name": "Python 3",
   "language": "python",
   "name": "python3"
  },
  "language_info": {
   "codemirror_mode": {
    "name": "ipython",
    "version": 3
   },
   "file_extension": ".py",
   "mimetype": "text/x-python",
   "name": "python",
   "nbconvert_exporter": "python",
   "pygments_lexer": "ipython3",
   "version": "3.7.4"
  }
 },
 "nbformat": 4,
 "nbformat_minor": 2
}
